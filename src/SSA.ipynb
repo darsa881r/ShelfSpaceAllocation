{
 "metadata": {
  "language_info": {
   "codemirror_mode": {
    "name": "ipython",
    "version": 3
   },
   "file_extension": ".py",
   "mimetype": "text/x-python",
   "name": "python",
   "nbconvert_exporter": "python",
   "pygments_lexer": "ipython3",
   "version": 3
  },
  "orig_nbformat": 2
 },
 "nbformat": 4,
 "nbformat_minor": 2,
 "cells": [
  {
   "source": [
    "# Shelf Space Allocation (SSA)"
   ],
   "cell_type": "markdown",
   "metadata": {}
  },
  {
   "cell_type": "code",
   "execution_count": null,
   "metadata": {},
   "outputs": [],
   "source": [
    "import pandas as pd\n",
    "\n",
    "import numpy as np\n",
    "\n",
    "#import math\n",
    "\n",
    "#from math import isnan\n",
    "\n",
    "from pulp import *\n",
    "\n",
    "#from collections import Counter\n",
    "\n",
    "#from more_itertools import unique_everseen"
   ]
  }
 ]
}